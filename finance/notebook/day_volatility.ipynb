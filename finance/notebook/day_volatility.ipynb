{
 "cells": [
  {
   "cell_type": "markdown",
   "metadata": {},
   "source": [
    "# calculation of mean return, variance and standard deviation"
   ]
  },
  {
   "cell_type": "code",
   "execution_count": null,
   "metadata": {},
   "outputs": [],
   "source": [
    "import yfinance as yf\n",
    "import pandas as pd\n",
    "import numpy as np\n",
    "from datetime import datetime, timedelta\n",
    "import os\n",
    "\n",
    "\n",
    "stock_ticker = \"YPFD.BA\"  # Replace with the stock ticker\n",
    "os.system(\"cls\")\n",
    "\n",
    "\n",
    "start_date = (datetime.today() - timedelta(days=7)).strftime(\"%Y-%m-%d\")\n",
    "end_date =  (datetime.today() - timedelta(days=1)).strftime(\"%Y-%m-%d\")\n",
    "\n",
    "    \n",
    "data = yf.download(tickers=stock_ticker, start=start_date,end=end_date, period=\"1d\")\n",
    "\n",
    "\n",
    "\n",
    "# Check if data is available\n",
    "if data.empty:\n",
    "    print(f\"error: No daily data available for {stock_ticker}.\")\n",
    "\n",
    "\n",
    "\n",
    "data.columns = data.columns.droplevel(1)\n",
    "df = pd.DataFrame(data)\n",
    "\n",
    "try:\n",
    "    daily_return = data.loc[datetime.today(), 'Return']\n",
    "except KeyError:\n",
    "    print(f\"error: No data available for {stock_ticker} on {start_date} to {end_date}.\")\n"
   ]
  },
  {
   "cell_type": "markdown",
   "metadata": {},
   "source": [
    "From your code, it looks like you're calculating the **mean return** manually by iterating over the \"Close\" column values in a DataFrame. You're summing up the **daily percentage returns** and then dividing by the number of data points to get the average return. Here's a detailed breakdown:\n",
    "\n",
    "---\n",
    "\n",
    "### **What Your Code Does:**\n",
    "1. **`columns_values_list`**:  \n",
    "   You extract the \"Close\" column values into a list of lists, where each sublist contains one close price.  \n",
    "   Example: `columns_values_list = [[100], [102], [101], [103]]`\n",
    "\n",
    "2. **Iterate Over Close Prices**:  \n",
    "   You calculate the percentage change between consecutive rows manually:\n",
    "   \n",
    "   $ \\text{Daily Return}i = \\frac{\\text{Close Price}i - \\text{Close Price}{i-1}}{\\text{Close Price}{i-1}} $\n",
    "   \n",
    "\n",
    "   You sum up all these returns in the variable `mean_return`.\n",
    "\n",
    "3. **Calculate the Mean Return**:  \n",
    "   You divide the accumulated `mean_return` by the total number of rows in `columns_values_list` to get the average (mean) return:\n",
    "   \n",
    "   $ \\text{Mean Return} = \\frac{\\sum \\text{Daily Returns}}{\\text{Number of Days}} $\n",
    "   \n",
    "\n",
    "4. **Convert to Percentage**:  \n",
    "   Multiply the result by 100 to express the mean return as a percentage.\n",
    "\n",
    "\n",
    "\n",
    "---\n",
    "\n",
    "\n",
    "\n"
   ]
  },
  {
   "cell_type": "code",
   "execution_count": null,
   "metadata": {},
   "outputs": [],
   "source": [
    "data.columns = data.columns.droplevel(1)\n",
    "df = pd.DataFrame(data)\n",
    "\n",
    "\n",
    "columns_values_list = df[[\"Close\"]].values.tolist()\n",
    "\n",
    "\n",
    "mean_return = 0\n",
    "daily_return_lst = []\n",
    "for i in range(0,len(columns_values_list)):\n",
    "    if (i == 0): continue;\n",
    "    daily_return_lst.append(columns_values_list[i][0] - columns_values_list[i-1][0])  / columns_values_list[i-1][0] )\n",
    "    \n",
    "\n",
    "# Calculate the mean return\n",
    "mean_return = sum(daily_return_lst) /  len(columns_values_list)\n",
    "print(mean_return * 100)\n",
    "\n"
   ]
  },
  {
   "cell_type": "markdown",
   "metadata": {},
   "source": [
    "### **How to Calculate Volatility (Standard Deviation) Manually:**\n",
    "\n",
    "To calculate the **volatility** based on the **returns** you’ve computed, follow these steps:\n",
    "\n",
    "1. **Step 1: Compute Daily Returns**  \n",
    "   As you already did in the loop, calculate the **daily returns** and store them in a list.  \n",
    "\n",
    "2. **Step 2: Calculate the Mean Return**  \n",
    "   Use the formula you already implemented.\n",
    "\n",
    "3. **Step 3: Compute Variance**  \n",
    "   For each daily return \\( R_i \\), calculate the squared difference from the mean return:\n",
    "\n",
    "   $ \\text{Variance} = \\frac{1}{n-1} \\sum_{i=1}^n (R_i - \\bar{R})^2 $\n",
    "\n",
    "\n",
    "4. **Step 4: Compute Standard Deviation**  \n",
    "   Take the square root of the variance:\n",
    "   \n",
    "   $ \\text{Volatility} = \\sqrt{\\text{Variance}} $\n",
    "\n",
    "\n",
    "\n",
    "---"
   ]
  },
  {
   "cell_type": "markdown",
   "metadata": {},
   "source": [
    "#### here you are calculating the square diference $(R_i - \\bar{R})^2$"
   ]
  },
  {
   "cell_type": "code",
   "execution_count": null,
   "metadata": {},
   "outputs": [],
   "source": [
    "squared_differneces = []\n",
    "for r in daily_return_lst:\n",
    "    squared_differneces = (r - mean_return) ** 2"
   ]
  }
 ],
 "metadata": {
  "kernelspec": {
   "display_name": "venv",
   "language": "python",
   "name": "python3"
  },
  "language_info": {
   "codemirror_mode": {
    "name": "ipython",
    "version": 3
   },
   "file_extension": ".py",
   "mimetype": "text/x-python",
   "name": "python",
   "nbconvert_exporter": "python",
   "pygments_lexer": "ipython3",
   "version": "3.13.0"
  }
 },
 "nbformat": 4,
 "nbformat_minor": 2
}
